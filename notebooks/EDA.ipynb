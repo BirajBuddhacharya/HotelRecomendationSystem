{
 "cells": [
  {
   "cell_type": "code",
   "execution_count": null,
   "id": "5c1a583e",
   "metadata": {},
   "outputs": [],
   "source": [
    "import pandas as pd \n",
    "\n",
    "df = pd.read_csv(\"../data/raw/hotels.csv\")"
   ]
  },
  {
   "cell_type": "code",
   "execution_count": null,
   "id": "12cef639",
   "metadata": {},
   "outputs": [],
   "source": []
  }
 ],
 "metadata": {
  "kernelspec": {
   "display_name": ".venv",
   "language": "python",
   "name": "python3"
  },
  "language_info": {
   "name": "python",
   "version": "3.12.3"
  }
 },
 "nbformat": 4,
 "nbformat_minor": 5
}
